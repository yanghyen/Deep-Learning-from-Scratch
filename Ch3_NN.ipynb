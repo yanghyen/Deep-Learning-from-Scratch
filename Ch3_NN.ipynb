{
 "cells": [
  {
   "cell_type": "markdown",
   "id": "d257f4d7",
   "metadata": {},
   "source": [
    "## Neural Network\n",
    "- 가중치 매개변수의 적절한 값을 데이터로 자동으로 학습하는 능력O\n",
    "### 활성화 함수\n",
    "- 입력 신호의 총합이 활성화를 일으키는지 정함\n",
    "- 층 쌓는 효과를 위해선 활성화 함수는 무조건 비선형 함수여야 함(선형함수는 제곱해도 의미 없음)"
   ]
  },
  {
   "cell_type": "code",
   "execution_count": 1,
   "id": "de026c24",
   "metadata": {},
   "outputs": [],
   "source": [
    "import numpy as np\n",
    "\n",
    "def sigmoid(x):\n",
    "    return 1 / (1 + np.exp(-x))"
   ]
  },
  {
   "cell_type": "code",
   "execution_count": null,
   "id": "d5b780e8",
   "metadata": {},
   "outputs": [],
   "source": [
    "def ReLU(x):\n",
    "    if x < 0:\n",
    "        return 0\n",
    "    else:\n",
    "        return x \n",
    "#######################################\n",
    "def relu(x):\n",
    "    return np.maximum(0, x)"
   ]
  }
 ],
 "metadata": {
  "kernelspec": {
   "display_name": "Python 3",
   "language": "python",
   "name": "python3"
  },
  "language_info": {
   "codemirror_mode": {
    "name": "ipython",
    "version": 3
   },
   "file_extension": ".py",
   "mimetype": "text/x-python",
   "name": "python",
   "nbconvert_exporter": "python",
   "pygments_lexer": "ipython3",
   "version": "3.13.7"
  }
 },
 "nbformat": 4,
 "nbformat_minor": 5
}
