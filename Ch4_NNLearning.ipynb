{
 "cells": [
  {
   "cell_type": "markdown",
   "id": "0fd9bbd6",
   "metadata": {},
   "source": [
    "# 신경망 학습\n",
    "- 목적: 손실함수의 결괏값을 가장 작게 만드는 가중치 매개변수를 찾는 것\n"
   ]
  },
  {
   "cell_type": "code",
   "execution_count": 7,
   "id": "c44aec4a",
   "metadata": {},
   "outputs": [],
   "source": [
    "# SSE (오차제곱합)\n",
    "import numpy as np\n",
    "def sum_squares_error(y, t):\n",
    "    return 0.5 * np.sum((y - t)**2)"
   ]
  },
  {
   "cell_type": "code",
   "execution_count": 1,
   "id": "ee3c4ba2",
   "metadata": {},
   "outputs": [],
   "source": [
    "# CEE (교차 엔트로피)\n",
    "def cross_entropy_error(y, t):\n",
    "    delta = 1e-7    # 로그에 0이 들어가면 안되니까\n",
    "    return -np.sum(t * np.log(y + delta))"
   ]
  },
  {
   "cell_type": "markdown",
   "id": "ac493b71",
   "metadata": {},
   "source": [
    "### 미니배치 학습\n",
    "- 모든 데이터에 대한 손실 함수의 합을 다 구하려면 시간이 오래 걸림\n",
    "- 데이터 일부를 추려 전체의 근사치로 이용 -> mini batch"
   ]
  },
  {
   "cell_type": "code",
   "execution_count": 5,
   "id": "6f08b4df",
   "metadata": {},
   "outputs": [
    {
     "name": "stdout",
     "output_type": "stream",
     "text": [
      "훈련 데이터: (60000, 784) (60000, 10)\n",
      "테스트 데이터: (10000, 784) (10000, 10)\n"
     ]
    }
   ],
   "source": [
    "import matplotlib.pyplot as plt\n",
    "from tensorflow.keras.datasets import mnist\n",
    "from tensorflow.keras.utils import to_categorical\n",
    "\n",
    "\n",
    "# MNIST 데이터 불러오기\n",
    "(x_train, t_train), (x_test, t_test) = mnist.load_data()\n",
    "\n",
    "# --- normalize=True ---\n",
    "# 픽셀 값을 [0,1] 범위로 변환\n",
    "x_train = x_train.astype(\"float32\") / 255.0\n",
    "x_test = x_test.astype(\"float32\") / 255.0\n",
    "\n",
    "# --- one_hot_label=True ---\n",
    "# 정수 레이블(0~9)을 one-hot 인코딩\n",
    "t_train = to_categorical(t_train, num_classes=10)\n",
    "t_test = to_categorical(t_test, num_classes=10)\n",
    "x_train = x_train.reshape(x_train.shape[0], -1)\n",
    "x_test  = x_test.reshape(x_test.shape[0], -1)\n",
    "\n",
    "print(\"훈련 데이터:\", x_train.shape, t_train.shape)\n",
    "print(\"테스트 데이터:\", x_test.shape, t_test.shape)"
   ]
  },
  {
   "cell_type": "code",
   "execution_count": 8,
   "id": "b9c8a11e",
   "metadata": {},
   "outputs": [],
   "source": [
    "train_size = x_train.shape[0]\n",
    "batch_size = 10\n",
    "batch_mask = np.random.choice(train_size, batch_size)\n",
    "x_batch = x_train[batch_mask]\n",
    "t_batch = t_train[batch_mask]"
   ]
  },
  {
   "cell_type": "code",
   "execution_count": 9,
   "id": "709bb812",
   "metadata": {},
   "outputs": [
    {
     "data": {
      "text/plain": [
       "array([29629, 38123,  5967, 53562, 53151, 34347, 42968, 44693, 20561,\n",
       "       11341], dtype=int32)"
      ]
     },
     "execution_count": 9,
     "metadata": {},
     "output_type": "execute_result"
    }
   ],
   "source": [
    "np.random.choice(60000,10)"
   ]
  },
  {
   "cell_type": "code",
   "execution_count": 10,
   "id": "31661204",
   "metadata": {},
   "outputs": [],
   "source": [
    "# 원핫인코딩 (배치용) 교차 엔트로피 오차 구하기\n",
    "def cross_entropy_error(y, t):\n",
    "    if y.ndim == 1:\n",
    "        t = t.reshape(1, t.size)\n",
    "        y = y.reshape(1, y.size)\n",
    "\n",
    "    batch_size = y.shape[0]\n",
    "    return -np.sum(t * np.log(y + 1e-7)) / batch_size"
   ]
  },
  {
   "cell_type": "code",
   "execution_count": 11,
   "id": "eb51ec87",
   "metadata": {},
   "outputs": [],
   "source": [
    "# 숫자 레이블로 주어졌을 때 (배치용) 교차 엔트로피 오차 구하기\n",
    "def cross_entropy_error(y, t):\n",
    "    if y.ndim == 1:\n",
    "        t = t.reshape(1, t.size)\n",
    "        y = y.reshape(1, y.size)\n",
    "\n",
    "    batch_size = y.shape[0]\n",
    "    return -np.sum(np.log(y[np.arange(batch_size), t] + 1e-7)) / batch_size"
   ]
  },
  {
   "cell_type": "markdown",
   "id": "d1d94023",
   "metadata": {},
   "source": [
    "### 수치 미분\n",
    "- 고딩 때 배운 미분은 수치 미분\n",
    "    - 이를 엄밀히 따지면 x와 x+h 사이의 기울기가 됨\n",
    "- 진정한 접선을 구하기 위해 함수의 차분 도입\n",
    "    - (x-h) + (x+h)/2h"
   ]
  },
  {
   "cell_type": "code",
   "execution_count": 12,
   "id": "6e2a7530",
   "metadata": {},
   "outputs": [],
   "source": [
    "def numerical_diff(f, x):\n",
    "    h = 1e-4\n",
    "    return (f(x+h) - f(x-h)) / (2*h)"
   ]
  },
  {
   "cell_type": "code",
   "execution_count": 13,
   "id": "af5fd21c",
   "metadata": {},
   "outputs": [],
   "source": [
    "def function_1(x):\n",
    "    return -0.01*x**2 + 0.1*x"
   ]
  },
  {
   "cell_type": "code",
   "execution_count": 14,
   "id": "779b8136",
   "metadata": {},
   "outputs": [
    {
     "data": {
      "text/plain": [
       "6.00000000000378"
      ]
     },
     "execution_count": 14,
     "metadata": {},
     "output_type": "execute_result"
    }
   ],
   "source": [
    "# 편미분\n",
    "def function_2(x): \n",
    "    return x[0]**2 + x[1]**2\n",
    "\n",
    "# x0=3, x1=4일 때 x0의 편미분 구하기\n",
    "def function_tmp1(x0):\n",
    "    return x0*x0 + 4.0**2\n",
    "\n",
    "numerical_diff(function_tmp1, 3.0)"
   ]
  },
  {
   "cell_type": "markdown",
   "id": "0e370ed5",
   "metadata": {},
   "source": [
    "- 기울기: 모든 변수의 편미분을 벡터로 정리한 것"
   ]
  },
  {
   "cell_type": "code",
   "execution_count": 31,
   "id": "8ab7b8cf",
   "metadata": {},
   "outputs": [],
   "source": [
    "import numpy as np\n",
    "\n",
    "def numerical_gradient(f, x):\n",
    "    h = 1e-4  # 0.0001\n",
    "    grad = np.zeros_like(x)\n",
    "\n",
    "    # np.nditer를 사용하여 모든 차원의 요소를 안전하게 순회\n",
    "    it = np.nditer(x, flags=['multi_index'], op_flags=['readwrite'])\n",
    "    \n",
    "    while not it.finished:\n",
    "        idx = it.multi_index  # 다차원 인덱스 (예: (0, 1))를 얻음\n",
    "        \n",
    "        # 원본 값 저장 후 약간의 변화를 줌\n",
    "        tmp_val = x[idx]\n",
    "        x[idx] = float(tmp_val) + h\n",
    "        fxh1 = f(x)\n",
    "        \n",
    "        x[idx] = float(tmp_val) - h\n",
    "        fxh2 = f(x)\n",
    "        \n",
    "        # 편미분 계산\n",
    "        grad[idx] = (fxh1 - fxh2) / (2 * h)\n",
    "        \n",
    "        x[idx] = tmp_val  # 원본 값으로 복원\n",
    "        \n",
    "        it.iternext()  # 다음 요소로 이동\n",
    "        \n",
    "    return grad"
   ]
  },
  {
   "cell_type": "code",
   "execution_count": 16,
   "id": "db13b33c",
   "metadata": {},
   "outputs": [
    {
     "data": {
      "text/plain": [
       "array([6., 8.])"
      ]
     },
     "execution_count": 16,
     "metadata": {},
     "output_type": "execute_result"
    }
   ],
   "source": [
    "numerical_gradient(function_2, np.array([3.0, 4.0]))"
   ]
  },
  {
   "cell_type": "markdown",
   "id": "94ea09cc",
   "metadata": {},
   "source": [
    "- 위 결과가 의미하는 바는 기울기 그림이 있듬\n",
    "- 기울기 그림은 방향을 가진 벡터(화살표)는 함수의 최솟값을 가리킴\n",
    "- **기울기가 가리키는 쪽은 각 장소에서 함수의 출력 값을 가장 크게 줄이는 방향** "
   ]
  },
  {
   "cell_type": "markdown",
   "id": "bdfde22c",
   "metadata": {},
   "source": [
    "### 경사하강법\n",
    "- 기울기를 이용해서 함수의 최솟값을 찾으려는 기법\n",
    "- 기울기: 각 지점에서 함수의 값을 낮추는 방안을 제시하는 지표\n",
    "- 그러나 기울기가 가리키는 곳에 정말 함수의 최솟값이 있는지 보장 X  \n",
    "\n",
    "1. 현 위치에서 기울어진 방향으로 일정 거리만큼 이동\n",
    "2. 이동한 곳에서도 기울기를 구하고 기울어진 방향으로 나아가길 반복\n",
    "- 이 함수의 값을 점차 줄여가는 기법이 경사법\n",
    "- 학습률: 한 번의 학습으로 얼마나 학습할지, 매개변수 값을 얼마나 갱신하는지 정하는 것"
   ]
  },
  {
   "cell_type": "code",
   "execution_count": 17,
   "id": "665a32f7",
   "metadata": {},
   "outputs": [],
   "source": [
    "def gradient_descent(f, init_x, lr=0.01, step_num=100):\n",
    "    x = init_x\n",
    "\n",
    "    for i in range(step_num):\n",
    "        grad = numerical_gradient(f, x)\n",
    "        x -= lr * grad\n",
    "    return x"
   ]
  },
  {
   "cell_type": "code",
   "execution_count": 18,
   "id": "3946f7db",
   "metadata": {},
   "outputs": [
    {
     "data": {
      "text/plain": [
       "array([-6.11110793e-10,  8.14814391e-10])"
      ]
     },
     "execution_count": 18,
     "metadata": {},
     "output_type": "execute_result"
    }
   ],
   "source": [
    "init_x = np.array([-3.0, 4.0])\n",
    "gradient_descent(function_2, init_x=init_x, lr=0.1, step_num=100)"
   ]
  },
  {
   "cell_type": "markdown",
   "id": "de9d2ddb",
   "metadata": {},
   "source": [
    "- 학습률이 너무 크면 발산\n",
    "- 학습률이 너무 작으면 0이 안됨"
   ]
  },
  {
   "cell_type": "code",
   "execution_count": 19,
   "id": "e94b4bb4",
   "metadata": {},
   "outputs": [],
   "source": [
    "def softmax(a):\n",
    "    c = np.max(a)\n",
    "    exp_a = np.exp(a - c)   # 오버플로를 막기 위함\n",
    "    sum_exp_a = np.sum(exp_a)\n",
    "    y = exp_a / sum_exp_a\n",
    "\n",
    "    return y "
   ]
  },
  {
   "cell_type": "code",
   "execution_count": 20,
   "id": "04b159cc",
   "metadata": {},
   "outputs": [],
   "source": [
    "import sys, os\n",
    "\n",
    "class simpleNet:\n",
    "    def __init__(self):\n",
    "        self.W = np.random.randn(2, 3)\n",
    "\n",
    "    def predict(self, x):\n",
    "        return np.dot(x, self.W)\n",
    "    \n",
    "    def loss(self, x, t):\n",
    "        z = self.predict(x)\n",
    "        y = softmax(z)\n",
    "        loss = cross_entropy_error(y, t)\n",
    "\n",
    "        return loss"
   ]
  },
  {
   "cell_type": "code",
   "execution_count": 28,
   "id": "5bfb380a",
   "metadata": {},
   "outputs": [
    {
     "name": "stdout",
     "output_type": "stream",
     "text": [
      "[[ 0.25343684  0.35021319  0.00181282]\n",
      " [-0.73577111 -1.14089259  1.23751323]]\n",
      "[-0.5101319  -0.81667542  1.1148496 ]\n",
      "2\n"
     ]
    },
    {
     "data": {
      "text/plain": [
       "np.float64(6.063616353282374)"
      ]
     },
     "execution_count": 28,
     "metadata": {},
     "output_type": "execute_result"
    }
   ],
   "source": [
    "net = simpleNet()\n",
    "print(net.W)\n",
    "\n",
    "x = np.array([0.6, 0.9])\n",
    "p = net.predict(x)\n",
    "print(p)\n",
    "\n",
    "print(np.argmax(p))\n",
    "\n",
    "t = np.array([0, 0, 1]) # 정답 레이블\n",
    "net.loss(x, t)"
   ]
  },
  {
   "cell_type": "code",
   "execution_count": 32,
   "id": "fd21a5c9",
   "metadata": {},
   "outputs": [
    {
     "name": "stdout",
     "output_type": "stream",
     "text": [
      "[[-0.93584944 -0.4055888   1.34143825]\n",
      " [-1.40377416 -0.60838321  2.01215737]]\n"
     ]
    }
   ],
   "source": [
    "f = lambda w: net.loss(x, t)\n",
    "dW = numerical_gradient(f, net.W)\n",
    "\n",
    "print(dW)"
   ]
  },
  {
   "cell_type": "markdown",
   "id": "31d40456",
   "metadata": {},
   "source": [
    "### SGD (확률적 경사 하강법)\n",
    "- 지금까지 진행한 방식이 SGD\n",
    "- 경사 하강법으로 매개변수를 갱신하는데, 데이터를 미니배치로 무작위로 선정하기 때문"
   ]
  },
  {
   "cell_type": "code",
   "execution_count": 33,
   "id": "440c9b9d",
   "metadata": {},
   "outputs": [],
   "source": [
    "import numpy as np\n",
    "\n",
    "def sigmoid(x):\n",
    "    return 1 / (1 + np.exp(-x))"
   ]
  },
  {
   "cell_type": "code",
   "execution_count": 46,
   "id": "03be1dfd",
   "metadata": {},
   "outputs": [],
   "source": [
    "# 2층 신경망 클래스 구현\n",
    "import sys, os\n",
    "\n",
    "class TwoLayerNet:\n",
    "    def __init__(self, input_size, hidden_size, output_size, weight_init_std=0.01):\n",
    "        # 가중치 초기화\n",
    "        self.params = {}\n",
    "        self.params['W1'] = weight_init_std * np.random.randn(input_size, hidden_size)\n",
    "        self.params['b1'] = np.zeros(hidden_size)\n",
    "        self.params['W2'] = weight_init_std * np.random.randn(hidden_size, output_size)\n",
    "        self.params['b2'] = np.zeros(output_size)\n",
    "\n",
    "    def predict(self, x):\n",
    "        W1, W2 = self.params['W1'], self.params['W2']\n",
    "        b1, b2 = self.params['b1'], self.params['b2']\n",
    "\n",
    "        a1 = np.dot(x, W1) + b1\n",
    "        z1 = sigmoid(a1)\n",
    "        a2 = np.dot(z1, W2) + b2\n",
    "        y = softmax(a2)\n",
    "\n",
    "        return y\n",
    "\n",
    "    # x: 입력 데이터, t: 정답 레이블\n",
    "    def loss(self, x, t):\n",
    "        y = self.predict(x)\n",
    "\n",
    "        if t.ndim != 1:\n",
    "            t = np.argmax(t, axis=1)\n",
    "\n",
    "        return cross_entropy_error(y, t)\n",
    "    \n",
    "    def accuracy(self, x, t):\n",
    "        y = self.predict(x)\n",
    "        y = np.argmax(y, axis=1)\n",
    "        t = np.argmax(t, axis=1)\n",
    "\n",
    "        accuracy = np.sum(y == t) / float(x.shape[0])   # float(x.shape[0]) 이 모야\n",
    "        return accuracy\n",
    "    \n",
    "    def numerical_gradient(self, x, t):\n",
    "        loss_W = lambda W: self.loss(x, t)\n",
    "\n",
    "        grads = {}\n",
    "        grads['W1'] = numerical_gradient(loss_W, self.params[\"W1\"])\n",
    "        grads['b1'] = numerical_gradient(loss_W, self.params[\"b1\"])\n",
    "        grads['W2'] = numerical_gradient(loss_W, self.params[\"W2\"])\n",
    "        grads['b2'] = numerical_gradient(loss_W, self.params[\"b2\"])\n",
    "\n",
    "        return grads        # 기울기를 보관하는 거 "
   ]
  },
  {
   "cell_type": "code",
   "execution_count": 47,
   "id": "439856ce",
   "metadata": {},
   "outputs": [
    {
     "ename": "KeyboardInterrupt",
     "evalue": "",
     "output_type": "error",
     "traceback": [
      "\u001b[31m---------------------------------------------------------------------------\u001b[39m",
      "\u001b[31mKeyboardInterrupt\u001b[39m                         Traceback (most recent call last)",
      "\u001b[36mCell\u001b[39m\u001b[36m \u001b[39m\u001b[32mIn[47]\u001b[39m\u001b[32m, line 39\u001b[39m\n\u001b[32m     36\u001b[39m t_batch = t_train[batch_mask]\n\u001b[32m     38\u001b[39m \u001b[38;5;66;03m# 기울기 계산\u001b[39;00m\n\u001b[32m---> \u001b[39m\u001b[32m39\u001b[39m grad = \u001b[43mnetwork\u001b[49m\u001b[43m.\u001b[49m\u001b[43mnumerical_gradient\u001b[49m\u001b[43m(\u001b[49m\u001b[43mx_batch\u001b[49m\u001b[43m,\u001b[49m\u001b[43m \u001b[49m\u001b[43mt_batch\u001b[49m\u001b[43m)\u001b[49m\n\u001b[32m     41\u001b[39m \u001b[38;5;66;03m# 매개변수 갱신\u001b[39;00m\n\u001b[32m     42\u001b[39m \u001b[38;5;28;01mfor\u001b[39;00m key \u001b[38;5;129;01min\u001b[39;00m (\u001b[33m\"\u001b[39m\u001b[33mW1\u001b[39m\u001b[33m\"\u001b[39m, \u001b[33m\"\u001b[39m\u001b[33mb1\u001b[39m\u001b[33m\"\u001b[39m, \u001b[33m\"\u001b[39m\u001b[33mW2\u001b[39m\u001b[33m\"\u001b[39m, \u001b[33m\"\u001b[39m\u001b[33mb2\u001b[39m\u001b[33m\"\u001b[39m):\n",
      "\u001b[36mCell\u001b[39m\u001b[36m \u001b[39m\u001b[32mIn[46]\u001b[39m\u001b[32m, line 45\u001b[39m, in \u001b[36mTwoLayerNet.numerical_gradient\u001b[39m\u001b[34m(self, x, t)\u001b[39m\n\u001b[32m     42\u001b[39m loss_W = \u001b[38;5;28;01mlambda\u001b[39;00m W: \u001b[38;5;28mself\u001b[39m.loss(x, t)\n\u001b[32m     44\u001b[39m grads = {}\n\u001b[32m---> \u001b[39m\u001b[32m45\u001b[39m grads[\u001b[33m'\u001b[39m\u001b[33mW1\u001b[39m\u001b[33m'\u001b[39m] = \u001b[43mnumerical_gradient\u001b[49m\u001b[43m(\u001b[49m\u001b[43mloss_W\u001b[49m\u001b[43m,\u001b[49m\u001b[43m \u001b[49m\u001b[38;5;28;43mself\u001b[39;49m\u001b[43m.\u001b[49m\u001b[43mparams\u001b[49m\u001b[43m[\u001b[49m\u001b[33;43m\"\u001b[39;49m\u001b[33;43mW1\u001b[39;49m\u001b[33;43m\"\u001b[39;49m\u001b[43m]\u001b[49m\u001b[43m)\u001b[49m\n\u001b[32m     46\u001b[39m grads[\u001b[33m'\u001b[39m\u001b[33mb1\u001b[39m\u001b[33m'\u001b[39m] = numerical_gradient(loss_W, \u001b[38;5;28mself\u001b[39m.params[\u001b[33m\"\u001b[39m\u001b[33mb1\u001b[39m\u001b[33m\"\u001b[39m])\n\u001b[32m     47\u001b[39m grads[\u001b[33m'\u001b[39m\u001b[33mW2\u001b[39m\u001b[33m'\u001b[39m] = numerical_gradient(loss_W, \u001b[38;5;28mself\u001b[39m.params[\u001b[33m\"\u001b[39m\u001b[33mW2\u001b[39m\u001b[33m\"\u001b[39m])\n",
      "\u001b[36mCell\u001b[39m\u001b[36m \u001b[39m\u001b[32mIn[31]\u001b[39m\u001b[32m, line 16\u001b[39m, in \u001b[36mnumerical_gradient\u001b[39m\u001b[34m(f, x)\u001b[39m\n\u001b[32m     14\u001b[39m tmp_val = x[idx]\n\u001b[32m     15\u001b[39m x[idx] = \u001b[38;5;28mfloat\u001b[39m(tmp_val) + h\n\u001b[32m---> \u001b[39m\u001b[32m16\u001b[39m fxh1 = \u001b[43mf\u001b[49m\u001b[43m(\u001b[49m\u001b[43mx\u001b[49m\u001b[43m)\u001b[49m\n\u001b[32m     18\u001b[39m x[idx] = \u001b[38;5;28mfloat\u001b[39m(tmp_val) - h\n\u001b[32m     19\u001b[39m fxh2 = f(x)\n",
      "\u001b[36mCell\u001b[39m\u001b[36m \u001b[39m\u001b[32mIn[46]\u001b[39m\u001b[32m, line 42\u001b[39m, in \u001b[36mTwoLayerNet.numerical_gradient.<locals>.<lambda>\u001b[39m\u001b[34m(W)\u001b[39m\n\u001b[32m     41\u001b[39m \u001b[38;5;28;01mdef\u001b[39;00m\u001b[38;5;250m \u001b[39m\u001b[34mnumerical_gradient\u001b[39m(\u001b[38;5;28mself\u001b[39m, x, t):\n\u001b[32m---> \u001b[39m\u001b[32m42\u001b[39m     loss_W = \u001b[38;5;28;01mlambda\u001b[39;00m W: \u001b[38;5;28;43mself\u001b[39;49m\u001b[43m.\u001b[49m\u001b[43mloss\u001b[49m\u001b[43m(\u001b[49m\u001b[43mx\u001b[49m\u001b[43m,\u001b[49m\u001b[43m \u001b[49m\u001b[43mt\u001b[49m\u001b[43m)\u001b[49m\n\u001b[32m     44\u001b[39m     grads = {}\n\u001b[32m     45\u001b[39m     grads[\u001b[33m'\u001b[39m\u001b[33mW1\u001b[39m\u001b[33m'\u001b[39m] = numerical_gradient(loss_W, \u001b[38;5;28mself\u001b[39m.params[\u001b[33m\"\u001b[39m\u001b[33mW1\u001b[39m\u001b[33m\"\u001b[39m])\n",
      "\u001b[36mCell\u001b[39m\u001b[36m \u001b[39m\u001b[32mIn[46]\u001b[39m\u001b[32m, line 26\u001b[39m, in \u001b[36mTwoLayerNet.loss\u001b[39m\u001b[34m(self, x, t)\u001b[39m\n\u001b[32m     25\u001b[39m \u001b[38;5;28;01mdef\u001b[39;00m\u001b[38;5;250m \u001b[39m\u001b[34mloss\u001b[39m(\u001b[38;5;28mself\u001b[39m, x, t):\n\u001b[32m---> \u001b[39m\u001b[32m26\u001b[39m     y = \u001b[38;5;28;43mself\u001b[39;49m\u001b[43m.\u001b[49m\u001b[43mpredict\u001b[49m\u001b[43m(\u001b[49m\u001b[43mx\u001b[49m\u001b[43m)\u001b[49m\n\u001b[32m     28\u001b[39m     \u001b[38;5;28;01mif\u001b[39;00m t.ndim != \u001b[32m1\u001b[39m:\n\u001b[32m     29\u001b[39m         t = np.argmax(t, axis=\u001b[32m1\u001b[39m)\n",
      "\u001b[36mCell\u001b[39m\u001b[36m \u001b[39m\u001b[32mIn[46]\u001b[39m\u001b[32m, line 17\u001b[39m, in \u001b[36mTwoLayerNet.predict\u001b[39m\u001b[34m(self, x)\u001b[39m\n\u001b[32m     14\u001b[39m W1, W2 = \u001b[38;5;28mself\u001b[39m.params[\u001b[33m'\u001b[39m\u001b[33mW1\u001b[39m\u001b[33m'\u001b[39m], \u001b[38;5;28mself\u001b[39m.params[\u001b[33m'\u001b[39m\u001b[33mW2\u001b[39m\u001b[33m'\u001b[39m]\n\u001b[32m     15\u001b[39m b1, b2 = \u001b[38;5;28mself\u001b[39m.params[\u001b[33m'\u001b[39m\u001b[33mb1\u001b[39m\u001b[33m'\u001b[39m], \u001b[38;5;28mself\u001b[39m.params[\u001b[33m'\u001b[39m\u001b[33mb2\u001b[39m\u001b[33m'\u001b[39m]\n\u001b[32m---> \u001b[39m\u001b[32m17\u001b[39m a1 = \u001b[43mnp\u001b[49m\u001b[43m.\u001b[49m\u001b[43mdot\u001b[49m\u001b[43m(\u001b[49m\u001b[43mx\u001b[49m\u001b[43m,\u001b[49m\u001b[43m \u001b[49m\u001b[43mW1\u001b[49m\u001b[43m)\u001b[49m + b1\n\u001b[32m     18\u001b[39m z1 = sigmoid(a1)\n\u001b[32m     19\u001b[39m a2 = np.dot(z1, W2) + b2\n",
      "\u001b[31mKeyboardInterrupt\u001b[39m: "
     ]
    }
   ],
   "source": [
    "# 미니배치 학습\n",
    "import matplotlib.pyplot as plt\n",
    "from tensorflow.keras.datasets import mnist\n",
    "from tensorflow.keras.utils import to_categorical\n",
    "\n",
    "\n",
    "# MNIST 데이터 불러오기\n",
    "(x_train, t_train), (x_test, t_test) = mnist.load_data()\n",
    "\n",
    "# --- normalize=True ---\n",
    "# 픽셀 값을 [0,1] 범위로 변환\n",
    "x_train = x_train.astype(\"float32\") / 255.0\n",
    "x_test = x_test.astype(\"float32\") / 255.0\n",
    "\n",
    "# --- one_hot_label=True ---\n",
    "# 정수 레이블(0~9)을 one-hot 인코딩\n",
    "t_train = to_categorical(t_train, num_classes=10)\n",
    "t_test = to_categorical(t_test, num_classes=10)\n",
    "x_train = x_train.reshape(x_train.shape[0], -1)\n",
    "x_test  = x_test.reshape(x_test.shape[0], -1)\n",
    "\n",
    "train_loss_list = []\n",
    "\n",
    "# hyperparameter\n",
    "iters_num = 10000   # 반복횟수\n",
    "train_size = x_train.shape[0]\n",
    "batch_size = 100    # 미니배치 크기\n",
    "learning_rate = 0.1\n",
    "\n",
    "network = TwoLayerNet(input_size=784, hidden_size=50, output_size=10)   # 28*28이미지 784, 0~9사이로 출력돼서 10\n",
    "\n",
    "for i in range(iters_num):\n",
    "    # 미니배치 획득\n",
    "    batch_mask = np.random.choice(train_size, batch_size)\n",
    "    x_batch = x_train[batch_mask]\n",
    "    t_batch = t_train[batch_mask]\n",
    "\n",
    "    # 기울기 계산\n",
    "    grad = network.numerical_gradient(x_batch, t_batch)\n",
    "\n",
    "    # 매개변수 갱신\n",
    "    for key in (\"W1\", \"b1\", \"W2\", \"b2\"):\n",
    "        network.params[key] - learning_rate * grad[key]\n",
    "\n",
    "    # 학습 결과 기록\n",
    "    loss = network.loss(x_batch, t_batch)\n",
    "    train_loss_list.append(loss)"
   ]
  },
  {
   "cell_type": "code",
   "execution_count": null,
   "id": "9ee0b654",
   "metadata": {},
   "outputs": [],
   "source": []
  }
 ],
 "metadata": {
  "kernelspec": {
   "display_name": "Python 3",
   "language": "python",
   "name": "python3"
  },
  "language_info": {
   "codemirror_mode": {
    "name": "ipython",
    "version": 3
   },
   "file_extension": ".py",
   "mimetype": "text/x-python",
   "name": "python",
   "nbconvert_exporter": "python",
   "pygments_lexer": "ipython3",
   "version": "3.13.7"
  }
 },
 "nbformat": 4,
 "nbformat_minor": 5
}
