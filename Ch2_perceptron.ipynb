{
 "cells": [
  {
   "cell_type": "markdown",
   "id": "783ef5f8",
   "metadata": {},
   "source": [
    "## Perceptron\n",
    "### AND Gate"
   ]
  },
  {
   "cell_type": "code",
   "execution_count": 4,
   "id": "c90c68b9",
   "metadata": {},
   "outputs": [],
   "source": [
    "import numpy as np \n",
    "def AND(x1, x2):\n",
    "    x = np.array([x1, x2])\n",
    "    w = np.array([0.5, 0.5])\n",
    "    b = -0.7\n",
    "\n",
    "    tmp = np.sum(x*w) + b \n",
    "    if tmp <= 0:\n",
    "        return 0\n",
    "    else:\n",
    "        return 1"
   ]
  },
  {
   "cell_type": "markdown",
   "id": "8b31e650",
   "metadata": {},
   "source": [
    "### NAND Gate\n",
    "- Not AND\n",
    "- AND와 가중치(w, b)만 다르다 "
   ]
  },
  {
   "cell_type": "code",
   "execution_count": 5,
   "id": "9dc17e57",
   "metadata": {},
   "outputs": [],
   "source": [
    "def NAND(x1, x2):\n",
    "    x = np.array([x1, x2])\n",
    "    w = np.array([-0.5, -0.5])\n",
    "    b = 0.7\n",
    "\n",
    "    tmp = np.sum(x * w) + b\n",
    "    if tmp <= 0:\n",
    "        return 0\n",
    "    else:\n",
    "        return 1"
   ]
  },
  {
   "cell_type": "markdown",
   "id": "8e3021d3",
   "metadata": {},
   "source": [
    "### OR Gate\n",
    "- b를 덜 작게 하는 것 = 임계치 낮춰서 하나만 1이어도 통과하도록 "
   ]
  },
  {
   "cell_type": "code",
   "execution_count": 6,
   "id": "eeeaf9ed",
   "metadata": {},
   "outputs": [],
   "source": [
    "def OR(x1, x2):\n",
    "    x = np.array([x1, x2])\n",
    "    w = np.array([0.5, 0.5])\n",
    "    b = -0.2\n",
    "\n",
    "    tmp = np.sum(x * w) + b\n",
    "    if tmp <= 0:\n",
    "        return 0\n",
    "    else:\n",
    "        return 1"
   ]
  },
  {
   "cell_type": "markdown",
   "id": "1904e30d",
   "metadata": {},
   "source": [
    "### perceptron의 한계\n",
    "- 선형으로 XOR 불가\n",
    "### XOR Gate\n",
    "- 다층 퍼셉트론"
   ]
  },
  {
   "cell_type": "code",
   "execution_count": 7,
   "id": "00e7bfc9",
   "metadata": {},
   "outputs": [],
   "source": [
    "def XOR(x1, x2):\n",
    "    s1 = NAND(x1, x2)\n",
    "    s2 = OR(x1, x2)\n",
    "    y = AND(s1, s2)\n",
    "    return y"
   ]
  }
 ],
 "metadata": {
  "kernelspec": {
   "display_name": "Python 3",
   "language": "python",
   "name": "python3"
  },
  "language_info": {
   "codemirror_mode": {
    "name": "ipython",
    "version": 3
   },
   "file_extension": ".py",
   "mimetype": "text/x-python",
   "name": "python",
   "nbconvert_exporter": "python",
   "pygments_lexer": "ipython3",
   "version": "3.13.7"
  }
 },
 "nbformat": 4,
 "nbformat_minor": 5
}
